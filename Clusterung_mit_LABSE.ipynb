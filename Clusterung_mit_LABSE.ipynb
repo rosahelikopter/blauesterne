{
  "nbformat": 4,
  "nbformat_minor": 0,
  "metadata": {
    "colab": {
      "name": "Clusterung_mit_LABSE.ipynb",
      "provenance": [],
      "collapsed_sections": []
    },
    "kernelspec": {
      "name": "python3",
      "display_name": "Python 3"
    }
  },
  "cells": [
    {
      "cell_type": "markdown",
      "metadata": {
        "id": "eLmHtIMujTjc"
      },
      "source": [
        "# EMBEDDIG MIT LABSE\n",
        "\n",
        "### TEXT CLUSTERUNG & TEXT CLASSIFICATION"
      ]
    },
    {
      "cell_type": "code",
      "metadata": {
        "id": "5-MUBJvIvAcC",
        "colab": {
          "base_uri": "https://localhost:8080/",
          "height": 375
        },
        "outputId": "c4b1633b-7504-4a4d-ffa9-87b3b933c633"
      },
      "source": [
        "!pip install bert-for-tf2"
      ],
      "execution_count": null,
      "outputs": [
        {
          "output_type": "stream",
          "text": [
            "Collecting bert-for-tf2\n",
            "\u001b[?25l  Downloading https://files.pythonhosted.org/packages/af/c1/015648a2186b25c6de79d15bec40d3d946fcf1dd5067d1c1b28009506486/bert-for-tf2-0.14.6.tar.gz (40kB)\n",
            "\r\u001b[K     |████████                        | 10kB 17.3MB/s eta 0:00:01\r\u001b[K     |████████████████                | 20kB 1.7MB/s eta 0:00:01\r\u001b[K     |████████████████████████▏       | 30kB 2.3MB/s eta 0:00:01\r\u001b[K     |████████████████████████████████| 40kB 1.8MB/s \n",
            "\u001b[?25hCollecting py-params>=0.9.6\n",
            "  Downloading https://files.pythonhosted.org/packages/a4/bf/c1c70d5315a8677310ea10a41cfc41c5970d9b37c31f9c90d4ab98021fd1/py-params-0.9.7.tar.gz\n",
            "Collecting params-flow>=0.8.0\n",
            "  Downloading https://files.pythonhosted.org/packages/a9/95/ff49f5ebd501f142a6f0aaf42bcfd1c192dc54909d1d9eb84ab031d46056/params-flow-0.8.2.tar.gz\n",
            "Requirement already satisfied: numpy in /usr/local/lib/python3.6/dist-packages (from params-flow>=0.8.0->bert-for-tf2) (1.18.5)\n",
            "Requirement already satisfied: tqdm in /usr/local/lib/python3.6/dist-packages (from params-flow>=0.8.0->bert-for-tf2) (4.41.1)\n",
            "Building wheels for collected packages: bert-for-tf2, py-params, params-flow\n",
            "  Building wheel for bert-for-tf2 (setup.py) ... \u001b[?25l\u001b[?25hdone\n",
            "  Created wheel for bert-for-tf2: filename=bert_for_tf2-0.14.6-cp36-none-any.whl size=30318 sha256=c7db70987bb23765bc0f339e06deeb4f049ff6c1a91ab7deb5494a215c63fd20\n",
            "  Stored in directory: /root/.cache/pip/wheels/07/a0/b4/75b0601ebaa41e517a797fe9cea119c789664c8408f8a74ae9\n",
            "  Building wheel for py-params (setup.py) ... \u001b[?25l\u001b[?25hdone\n",
            "  Created wheel for py-params: filename=py_params-0.9.7-cp36-none-any.whl size=7304 sha256=1775829909b530a92005919491804d3ced0c8ffbe1a52fd037e677dc87511c79\n",
            "  Stored in directory: /root/.cache/pip/wheels/67/f5/19/b461849a50aefdf4bab47c4756596e82ee2118b8278e5a1980\n",
            "  Building wheel for params-flow (setup.py) ... \u001b[?25l\u001b[?25hdone\n",
            "  Created wheel for params-flow: filename=params_flow-0.8.2-cp36-none-any.whl size=19475 sha256=089bd714d3bc3aebe8cdf68957738150659b74c20cb443e1bac6d9568c40dd6b\n",
            "  Stored in directory: /root/.cache/pip/wheels/08/c8/7f/81c86b9ff2b86e2c477e3914175be03e679e596067dc630c06\n",
            "Successfully built bert-for-tf2 py-params params-flow\n",
            "Installing collected packages: py-params, params-flow, bert-for-tf2\n",
            "Successfully installed bert-for-tf2-0.14.6 params-flow-0.8.2 py-params-0.9.7\n"
          ],
          "name": "stdout"
        }
      ]
    },
    {
      "cell_type": "code",
      "metadata": {
        "id": "wVFts3fJubFb"
      },
      "source": [
        "import numpy as np\n",
        "import tensorflow as tf\n",
        "import tensorflow_hub as hub\n",
        "\n",
        "def get_model(model_url, max_seq_length):\n",
        "  labse_layer = hub.KerasLayer(model_url, trainable=True)\n",
        "\n",
        "  # Define input.\n",
        "  input_word_ids = tf.keras.layers.Input(shape=(max_seq_length,), dtype=tf.int32,\n",
        "                                         name=\"input_word_ids\")\n",
        "  input_mask = tf.keras.layers.Input(shape=(max_seq_length,), dtype=tf.int32,\n",
        "                                     name=\"input_mask\")\n",
        "  segment_ids = tf.keras.layers.Input(shape=(max_seq_length,), dtype=tf.int32,\n",
        "                                      name=\"segment_ids\")\n",
        "\n",
        "  # LaBSE layer.\n",
        "  pooled_output,  _ = labse_layer([input_word_ids, input_mask, segment_ids])\n",
        "\n",
        "  # The embedding is l2 normalized.\n",
        "  pooled_output = tf.keras.layers.Lambda(\n",
        "      lambda x: tf.nn.l2_normalize(x, axis=1))(pooled_output)\n",
        "\n",
        "  # Define model.\n",
        "  return tf.keras.Model(\n",
        "        inputs=[input_word_ids, input_mask, segment_ids],\n",
        "        outputs=pooled_output), labse_layer\n",
        "\n",
        "max_seq_length = 64\n",
        "labse_model, labse_layer = get_model(\n",
        "    model_url=\"https://tfhub.dev/google/LaBSE/1\", max_seq_length=max_seq_length)\n"
      ],
      "execution_count": null,
      "outputs": []
    },
    {
      "cell_type": "code",
      "metadata": {
        "id": "wW4pjzV4ulcS"
      },
      "source": [
        "import bert\n",
        "\n",
        "vocab_file = labse_layer.resolved_object.vocab_file.asset_path.numpy()\n",
        "do_lower_case = labse_layer.resolved_object.do_lower_case.numpy()\n",
        "tokenizer = bert.bert_tokenization.FullTokenizer(vocab_file, do_lower_case)\n",
        "\n",
        "def create_input(input_strings, tokenizer, max_seq_length):\n",
        "\n",
        "  input_ids_all, input_mask_all, segment_ids_all = [], [], []\n",
        "  for input_string in input_strings:\n",
        "    # Tokenize input.\n",
        "    input_tokens = [\"[CLS]\"] + tokenizer.tokenize(input_string) + [\"[SEP]\"]\n",
        "    input_ids = tokenizer.convert_tokens_to_ids(input_tokens)\n",
        "    sequence_length = min(len(input_ids), max_seq_length)\n",
        "\n",
        "    # Padding or truncation.\n",
        "    if len(input_ids) >= max_seq_length:\n",
        "      input_ids = input_ids[:max_seq_length]\n",
        "    else:\n",
        "      input_ids = input_ids + [0] * (max_seq_length - len(input_ids))\n",
        "\n",
        "    input_mask = [1] * sequence_length + [0] * (max_seq_length - sequence_length)\n",
        "\n",
        "    input_ids_all.append(input_ids)\n",
        "    input_mask_all.append(input_mask)\n",
        "    segment_ids_all.append([0] * max_seq_length)\n",
        "\n",
        "  return np.array(input_ids_all), np.array(input_mask_all), np.array(segment_ids_all)\n",
        "\n",
        "def encode(input_text):\n",
        "  input_ids, input_mask, segment_ids = create_input(\n",
        "    input_text, tokenizer, max_seq_length)\n",
        "  return labse_model([input_ids, input_mask, segment_ids])"
      ],
      "execution_count": null,
      "outputs": []
    },
    {
      "cell_type": "markdown",
      "metadata": {
        "id": "p4WNlcbziCas"
      },
      "source": [
        "# CLUSTER SENTENCES"
      ]
    },
    {
      "cell_type": "code",
      "metadata": {
        "id": "SFoyLeI06hZp"
      },
      "source": [
        "def cluster_sentences(sentences):\n",
        "    embeddings = encode(sentences)\n",
        "\n",
        "    # Inner similarity\n",
        "    #print (np.matmul(embeddings, np.transpose(embeddings)))\n",
        "\n",
        "    import seaborn as sns\n",
        "\n",
        "    corr = np.matmul(embeddings, np.transpose(embeddings))\n",
        "    sns.set(font_scale=0.9)\n",
        "    g = sns.clustermap(\n",
        "          corr,\n",
        "          xticklabels=sentences,\n",
        "          yticklabels=sentences,\n",
        "          vmin=0,\n",
        "          vmax=1,\n",
        "          cmap=\"YlOrRd\")\n",
        "\n",
        "    print(\"ALT\")\n",
        "    for i in range(len(sentences)):\n",
        "      print(sentences[i])\n",
        "\n",
        "    print(\"...\")\n",
        "    print(\"NEU\")\n",
        "    for i in range(len(sentences)):\n",
        "      print(sentences[g.dendrogram_row.reordered_ind[i]])"
      ],
      "execution_count": null,
      "outputs": []
    },
    {
      "cell_type": "code",
      "metadata": {
        "id": "3QleLdJAuema",
        "colab": {
          "base_uri": "https://localhost:8080/",
          "height": 1000
        },
        "outputId": "a6562556-48f4-4350-dd50-de9f02fbd6f7"
      },
      "source": [
        "sentences = [\"Coca-Cola\",\n",
        "             \"Fanta\",\n",
        "             \"Sprite\",\n",
        "             \"Bier\",\n",
        "             \"Kindergarten\",\n",
        "             \"Schule\",\n",
        "             \"Hausaufgaben\",\n",
        "             \"Sportunterricht\",\n",
        "             \"Fußball\"]\n",
        "\n",
        "cluster_sentences(sentences)"
      ],
      "execution_count": null,
      "outputs": [
        {
          "output_type": "stream",
          "text": [
            "ALT\n",
            "Coca-Cola\n",
            "Fanta\n",
            "Sprite\n",
            "Bier\n",
            "Kindergarten\n",
            "Schule\n",
            "Hausaufgaben\n",
            "Sportunterricht\n",
            "Fußball\n",
            "...\n",
            "NEU\n",
            "Hausaufgaben\n",
            "Kindergarten\n",
            "Schule\n",
            "Sportunterricht\n",
            "Fußball\n",
            "Coca-Cola\n",
            "Bier\n",
            "Fanta\n",
            "Sprite\n"
          ],
          "name": "stdout"
        },
        {
          "output_type": "display_data",
          "data": {
            "image/png": "[encoded data removed]",
            "text/plain": [
              "<Figure size 720x720 with 4 Axes>"
            ]
          },
          "metadata": {
            "tags": []
          }
        }
      ]
    },
    {
      "cell_type": "markdown",
      "metadata": {
        "id": "VowmoCFDiJ3T"
      },
      "source": [
        "# TEXT CLASSIFICATION"
      ]
    },
    {
      "cell_type": "code",
      "metadata": {
        "id": "Ufg5WAXXxh51",
        "colab": {
          "base_uri": "https://localhost:8080/",
          "height": 716
        },
        "outputId": "2d4e9172-2876-4ec4-892f-cab3737b4de5"
      },
      "source": [
        "def dummy_classifier(to_be_classified, konfidenz=0.50):\n",
        "\n",
        "    sentences = [\"Der Preis ist günstig\",\n",
        "                \"Das Ticket ist zu teuer\",\n",
        "                \"Mein Flug war ein Schnäppchen.\",\n",
        "                \"Das Flugticket hat fast 500 Euro gekostet\",\n",
        "                \"Der Flug hatte Verspätung\",\n",
        "                \"Wir sind zu spät in London gelandet\",\n",
        "                \"Wir sind 30 Minuten zu spät\",\n",
        "                \"Ich war in letzter Zeit oft verspätet\",\n",
        "                \"Das Essen war lecker, aber es gab zu wenig trinken :O\",\n",
        "                \"Der Kaffee war kalt. Es gab kein Bier mehr.\",\n",
        "                \"Die Pasta war zu salzig\",\n",
        "                \"Es gab Sandwiches und Tee.\",\n",
        "                \"Die Crew war freundlich und kompetent\",\n",
        "                \"Das Personal war stets bemüht\",\n",
        "                \"Ihre Mitarbeiter sind unfreundlich...\",\n",
        "                \"Die Pilotin hat uns persönlich begrüßt\"]\n",
        "\n",
        "    categories = [\"To_be_classified\",\n",
        "                  \"Preis\", \"Preis\",\n",
        "                  \"Preis\", \"Preis\",\n",
        "                  \"Verspätung\", \"Verspätung\",\n",
        "                  \"Verspätung\", \"Verspätung\",\n",
        "                  \"Verpflegung\", \"Verpflegung\",\n",
        "                  \"Verpflegung\", \"Verpflegung\",\n",
        "                  \"Personal\", \"Personal\",\n",
        "                  \"Personal\", \"Personal\"]\n",
        "\n",
        "\n",
        "    embeddings = encode([to_be_classified] + sentences)\n",
        "\n",
        "    # Inner similarity\n",
        "    similarities =  np.matmul(embeddings, np.transpose(embeddings))\n",
        "\n",
        "    print(\"x\"*50)\n",
        "    print(to_be_classified)\n",
        "    print(similarities[0])\n",
        "\n",
        "    for i in range(len(similarities[0])):\n",
        "      if (i > 0) and (similarities[0][i] > konfidenz):\n",
        "        print(str(i) + \" -- \" + categories[i])\n",
        "\n",
        "dummy_classifier(to_be_classified = \"Die Stewardess war sympathisch\", konfidenz=0.5)\n",
        "dummy_classifier(to_be_classified = \"Der Ticketpreis ist viel zu hoch\", konfidenz=0.5)\n",
        "dummy_classifier(to_be_classified = \"Mein Sitzplatz ist zu eng, ich hatte keinen Platz\", konfidenz=0.5)\n",
        "dummy_classifier(to_be_classified = \"Das Hühnchen schmeckte nach Hundefutter\", konfidenz=0.55)\n",
        "dummy_classifier(to_be_classified = \"Das Essen. So schlechte Pasta habe ich noch nie gegessen\", konfidenz=0.55)\n",
        "dummy_classifier(to_be_classified = \"Frischere Snacks, und andere Getränke als nur Wasser\", konfidenz=0.55)\n"
      ],
      "execution_count": null,
      "outputs": [
        {
          "output_type": "stream",
          "text": [
            "xxxxxxxxxxxxxxxxxxxxxxxxxxxxxxxxxxxxxxxxxxxxxxxxxx\n",
            "Die Stewardess war sympathisch\n",
            "[1.0000001  0.33465594 0.26110604 0.31211108 0.2414392  0.32949942\n",
            " 0.1529905  0.18386829 0.22100712 0.32520586 0.3007258  0.46795136\n",
            " 0.26116753 0.5668875  0.50511825 0.39212465 0.46846718]\n",
            "13 -- Personal\n",
            "14 -- Personal\n",
            "xxxxxxxxxxxxxxxxxxxxxxxxxxxxxxxxxxxxxxxxxxxxxxxxxx\n",
            "Der Ticketpreis ist viel zu hoch\n",
            "[0.99999976 0.5392777  0.92279905 0.46515507 0.5822228  0.42088383\n",
            " 0.43478656 0.43537307 0.4040297  0.42212078 0.35739952 0.5069975\n",
            " 0.30980122 0.3039009  0.2673862  0.32850063 0.2905597 ]\n",
            "1 -- Preis\n",
            "2 -- Preis\n",
            "4 -- Preis\n",
            "11 -- Verpflegung\n",
            "xxxxxxxxxxxxxxxxxxxxxxxxxxxxxxxxxxxxxxxxxxxxxxxxxx\n",
            "Mein Sitzplatz ist zu eng, ich hatte keinen Platz\n",
            "[0.9999996  0.35036415 0.5204173  0.49799955 0.40800846 0.41853935\n",
            " 0.45788893 0.48217475 0.5231732  0.5208688  0.50508225 0.50662774\n",
            " 0.37528852 0.41516662 0.3379907  0.43410367 0.25484967]\n",
            "2 -- Preis\n",
            "8 -- Verspätung\n",
            "9 -- Verpflegung\n",
            "10 -- Verpflegung\n",
            "11 -- Verpflegung\n",
            "xxxxxxxxxxxxxxxxxxxxxxxxxxxxxxxxxxxxxxxxxxxxxxxxxx\n",
            "Das Hühnchen schmeckte nach Hundefutter\n",
            "[0.9999998  0.31159627 0.3099587  0.35488066 0.4434746  0.38978946\n",
            " 0.37181282 0.36697194 0.2990855  0.48093775 0.41428638 0.523565\n",
            " 0.36358878 0.43858412 0.3844902  0.30680907 0.37084365]\n",
            "xxxxxxxxxxxxxxxxxxxxxxxxxxxxxxxxxxxxxxxxxxxxxxxxxx\n",
            "Das Essen. So schlechte Pasta habe ich noch nie gegessen\n",
            "[0.9999997  0.26821315 0.3349499  0.3511458  0.35807934 0.32850385\n",
            " 0.32396695 0.3426657  0.41587305 0.53863    0.47730303 0.6064038\n",
            " 0.41767886 0.3558067  0.3549741  0.35756952 0.20821162]\n",
            "11 -- Verpflegung\n",
            "xxxxxxxxxxxxxxxxxxxxxxxxxxxxxxxxxxxxxxxxxxxxxxxxxx\n",
            "Frischere Snacks, und andere Getränke als nur Wasser\n",
            "[0.99999964 0.20712674 0.20136476 0.27263668 0.31142324 0.29851738\n",
            " 0.34172362 0.35879672 0.3277151  0.5585054  0.5214466  0.35947436\n",
            " 0.5204648  0.34686434 0.23296382 0.25507003 0.18630141]\n",
            "9 -- Verpflegung\n"
          ],
          "name": "stdout"
        }
      ]
    }
  ]
}